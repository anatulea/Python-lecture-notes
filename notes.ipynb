{
 "cells": [
  {
   "cell_type": "code",
   "execution_count": 2,
   "metadata": {},
   "outputs": [],
   "source": [
    "for i in range(10, 0 -1):\n",
    "    print(i)"
   ]
  },
  {
   "cell_type": "code",
   "execution_count": 3,
   "metadata": {},
   "outputs": [
    {
     "name": "stdout",
     "output_type": "stream",
     "text": [
      "[0, 1, 2, 3, 4, 5, 6, 7, 8]\n"
     ]
    }
   ],
   "source": [
    "# List comprehension\n",
    "# output        input\n",
    "a = [0,1,2,3,4,5,6,7,8]\n",
    "b=[x   for x in a]\n",
    "print(b)"
   ]
  },
  {
   "cell_type": "code",
   "execution_count": 4,
   "metadata": {},
   "outputs": [
    {
     "name": "stdout",
     "output_type": "stream",
     "text": [
      "[0, 2, 4, 6, 8, 10, 12, 14, 16]\n"
     ]
    }
   ],
   "source": [
    "a = [0,1,2,3,4,5,6,7,8]\n",
    "b=[x*2   for x in a]\n",
    "print(b)"
   ]
  },
  {
   "cell_type": "code",
   "execution_count": 5,
   "metadata": {},
   "outputs": [
    {
     "name": "stdout",
     "output_type": "stream",
     "text": [
      "[0, 2, 4, 6, 8, 10, 12, 14, 16]\n"
     ]
    }
   ],
   "source": [
    "b=[x*2   for x in range(0,9)]\n",
    "print(b)"
   ]
  },
  {
   "cell_type": "code",
   "execution_count": 8,
   "metadata": {},
   "outputs": [
    {
     "name": "stdout",
     "output_type": "stream",
     "text": [
      "[0, 2, 4, 6, 8, 10]\n"
     ]
    }
   ],
   "source": [
    "a = [0,1,2,3,4,5,6,7,8]\n",
    "# output        input       filter\n",
    "#  V               V           V\n",
    "b=[x*2        for x in a    if x<=5]\n",
    "#     b=[[i for i in range(x)]       for x in a    if x<=5]\n",
    "print(b)\n",
    "\n",
    "\n",
    "#  same from above\n",
    "# b=[]\n",
    "# for x in a:\n",
    "#     if x <=5:\n",
    "#         b.append(x*2)"
   ]
  },
  {
   "cell_type": "code",
   "execution_count": 9,
   "metadata": {},
   "outputs": [
    {
     "data": {
      "text/plain": [
       "[[0, 0, 0, 0, 0, 0, 0, 0, 0, 0, 0, 0, 0],\n",
       " [0, 1, 2, 3, 4, 5, 6, 7, 8, 9, 10, 11, 12],\n",
       " [0, 2, 4, 6, 8, 10, 12, 14, 16, 18, 20, 22, 24],\n",
       " [0, 3, 6, 9, 12, 15, 18, 21, 24, 27, 30, 33, 36],\n",
       " [0, 4, 8, 12, 16, 20, 24, 28, 32, 36, 40, 44, 48],\n",
       " [0, 5, 10, 15, 20, 25, 30, 35, 40, 45, 50, 55, 60],\n",
       " [0, 6, 12, 18, 24, 30, 36, 42, 48, 54, 60, 66, 72],\n",
       " [0, 7, 14, 21, 28, 35, 42, 49, 56, 63, 70, 77, 84],\n",
       " [0, 8, 16, 24, 32, 40, 48, 56, 64, 72, 80, 88, 96],\n",
       " [0, 9, 18, 27, 36, 45, 54, 63, 72, 81, 90, 99, 108],\n",
       " [0, 10, 20, 30, 40, 50, 60, 70, 80, 90, 100, 110, 120],\n",
       " [0, 11, 22, 33, 44, 55, 66, 77, 88, 99, 110, 121, 132],\n",
       " [0, 12, 24, 36, 48, 60, 72, 84, 96, 108, 120, 132, 144]]"
      ]
     },
     "execution_count": 9,
     "metadata": {},
     "output_type": "execute_result"
    }
   ],
   "source": [
    "[[x*y for x in range(13)] for y in range(13)] # multiplication table"
   ]
  },
  {
   "cell_type": "code",
   "execution_count": null,
   "metadata": {},
   "outputs": [],
   "source": []
  }
 ],
 "metadata": {
  "kernelspec": {
   "display_name": "Python 3",
   "language": "python",
   "name": "python3"
  },
  "language_info": {
   "codemirror_mode": {
    "name": "ipython",
    "version": 3
   },
   "file_extension": ".py",
   "mimetype": "text/x-python",
   "name": "python",
   "nbconvert_exporter": "python",
   "pygments_lexer": "ipython3",
   "version": "3.8.3"
  }
 },
 "nbformat": 4,
 "nbformat_minor": 4
}
