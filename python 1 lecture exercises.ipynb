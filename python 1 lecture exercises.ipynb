{
 "cells": [
  {
   "cell_type": "code",
   "execution_count": 1,
   "metadata": {},
   "outputs": [],
   "source": [
    "#-----------------  LISTS  ------------"
   ]
  },
  {
   "cell_type": "code",
   "execution_count": 2,
   "metadata": {},
   "outputs": [],
   "source": [
    "# Create a list\n",
    "lambda_list = ['node', 'react', 'python', 'html', 'knex', 'sql']"
   ]
  },
  {
   "cell_type": "code",
   "execution_count": 3,
   "metadata": {},
   "outputs": [
    {
     "data": {
      "text/plain": [
       "'python'"
      ]
     },
     "execution_count": 3,
     "metadata": {},
     "output_type": "execute_result"
    }
   ],
   "source": [
    "# Access list items\n",
    "lambda_list[2]"
   ]
  },
  {
   "cell_type": "code",
   "execution_count": 4,
   "metadata": {},
   "outputs": [
    {
     "data": {
      "text/plain": [
       "['node', 'react', 'python', 'html', 'css', 'sql']"
      ]
     },
     "execution_count": 4,
     "metadata": {},
     "output_type": "execute_result"
    }
   ],
   "source": [
    "# Change the value of a list item\n",
    "lambda_list[4]= 'css'\n",
    "lambda_list"
   ]
  },
  {
   "cell_type": "code",
   "execution_count": 5,
   "metadata": {},
   "outputs": [
    {
     "name": "stdout",
     "output_type": "stream",
     "text": [
      "node\n",
      "react\n",
      "python\n",
      "html\n",
      "css\n",
      "sql\n"
     ]
    }
   ],
   "source": [
    "# Loop through a list\n",
    "for i in lambda_list:\n",
    "    print(i)"
   ]
  },
  {
   "cell_type": "code",
   "execution_count": 6,
   "metadata": {},
   "outputs": [
    {
     "name": "stdout",
     "output_type": "stream",
     "text": [
      "node\n",
      "react\n",
      "python\n",
      "html\n",
      "css\n",
      "sql\n"
     ]
    }
   ],
   "source": [
    "for i in range(len(lambda_list)):\n",
    "    print(lambda_list[i])"
   ]
  },
  {
   "cell_type": "code",
   "execution_count": 7,
   "metadata": {},
   "outputs": [
    {
     "name": "stdout",
     "output_type": "stream",
     "text": [
      "0: node\n",
      "1: react\n",
      "2: python\n",
      "3: html\n",
      "4: css\n",
      "5: sql\n"
     ]
    }
   ],
   "source": [
    "for i in range(len(lambda_list)):\n",
    "#     print( str(i)+ ': '+ lambda_list[i])\n",
    "    print(f'{i}: {lambda_list[i]}')"
   ]
  },
  {
   "cell_type": "code",
   "execution_count": 8,
   "metadata": {},
   "outputs": [
    {
     "name": "stdout",
     "output_type": "stream",
     "text": [
      "(0, 'node')\n",
      "(1, 'react')\n",
      "(2, 'python')\n",
      "(3, 'html')\n",
      "(4, 'css')\n",
      "(5, 'sql')\n"
     ]
    }
   ],
   "source": [
    "# enumerate(list) returns tuples of index and value\n",
    "for i in enumerate(lambda_list):\n",
    "    print(i)"
   ]
  },
  {
   "cell_type": "code",
   "execution_count": 9,
   "metadata": {},
   "outputs": [
    {
     "name": "stdout",
     "output_type": "stream",
     "text": [
      "0: node\n",
      "1: react\n",
      "2: python\n",
      "3: html\n",
      "4: css\n",
      "5: sql\n"
     ]
    }
   ],
   "source": [
    "for i,v in enumerate(lambda_list):\n",
    "    print(f'{i}: {v}')"
   ]
  },
  {
   "cell_type": "code",
   "execution_count": 10,
   "metadata": {},
   "outputs": [
    {
     "name": "stdout",
     "output_type": "stream",
     "text": [
      "in the list\n"
     ]
    }
   ],
   "source": [
    "for i in lambda_list:\n",
    "    if(i == 'html'):\n",
    "        print('in the list')"
   ]
  },
  {
   "cell_type": "code",
   "execution_count": 11,
   "metadata": {},
   "outputs": [
    {
     "data": {
      "text/plain": [
       "['i was inserted',\n",
       " 'node',\n",
       " 'react',\n",
       " 'python',\n",
       " 'html',\n",
       " 'css',\n",
       " 'sql',\n",
       " 'new value appended']"
      ]
     },
     "execution_count": 11,
     "metadata": {},
     "output_type": "execute_result"
    }
   ],
   "source": [
    "lambda_list.append('new value appended')\n",
    "lambda_list.insert(0, 'i was inserted')\n",
    "lambda_list"
   ]
  },
  {
   "cell_type": "code",
   "execution_count": 12,
   "metadata": {},
   "outputs": [],
   "source": [
    "# Check if a list item exists\n",
    "def check_list(list_name, value_to_check):\n",
    "    for i in list_name:\n",
    "        if(i == value_to_check):\n",
    "            print('in the list')\n",
    "            \n",
    "        else:\n",
    "            print('Not here!')"
   ]
  },
  {
   "cell_type": "code",
   "execution_count": 13,
   "metadata": {},
   "outputs": [
    {
     "name": "stdout",
     "output_type": "stream",
     "text": [
      "Not here!\n",
      "Not here!\n",
      "Not here!\n",
      "Not here!\n",
      "in the list\n",
      "Not here!\n",
      "Not here!\n",
      "Not here!\n"
     ]
    }
   ],
   "source": [
    "check_list(lambda_list, 'html')"
   ]
  },
  {
   "cell_type": "code",
   "execution_count": 14,
   "metadata": {},
   "outputs": [],
   "source": [
    "def check_list(list_name, value_to_check):\n",
    "    if value_to_check  in list_name:\n",
    "        print('in the list')\n",
    "    else:\n",
    "        print('Not here!')"
   ]
  },
  {
   "cell_type": "code",
   "execution_count": 15,
   "metadata": {},
   "outputs": [
    {
     "name": "stdout",
     "output_type": "stream",
     "text": [
      "in the list\n"
     ]
    }
   ],
   "source": [
    "check_list(lambda_list, 'html')"
   ]
  },
  {
   "cell_type": "code",
   "execution_count": 16,
   "metadata": {},
   "outputs": [
    {
     "data": {
      "text/plain": [
       "8"
      ]
     },
     "execution_count": 16,
     "metadata": {},
     "output_type": "execute_result"
    }
   ],
   "source": [
    "# Get the length of a list\n",
    "len(lambda_list)"
   ]
  },
  {
   "cell_type": "code",
   "execution_count": 17,
   "metadata": {},
   "outputs": [],
   "source": [
    "# Add an item to the end of a list\n",
    "lambda_list.append('add item to the end')"
   ]
  },
  {
   "cell_type": "code",
   "execution_count": 18,
   "metadata": {},
   "outputs": [
    {
     "data": {
      "text/plain": [
       "['i was inserted',\n",
       " 'node',\n",
       " 'react',\n",
       " 'python',\n",
       " 'html',\n",
       " 'css',\n",
       " 'sql',\n",
       " 'new value appended',\n",
       " 'add item to the end']"
      ]
     },
     "execution_count": 18,
     "metadata": {},
     "output_type": "execute_result"
    }
   ],
   "source": [
    "lambda_list"
   ]
  },
  {
   "cell_type": "code",
   "execution_count": 19,
   "metadata": {},
   "outputs": [],
   "source": [
    "# Add an item at a specified index\n",
    "lambda_list.insert(5, 'Add an item at a specified index')"
   ]
  },
  {
   "cell_type": "code",
   "execution_count": 20,
   "metadata": {},
   "outputs": [
    {
     "data": {
      "text/plain": [
       "['i was inserted',\n",
       " 'node',\n",
       " 'react',\n",
       " 'python',\n",
       " 'html',\n",
       " 'Add an item at a specified index',\n",
       " 'css',\n",
       " 'sql',\n",
       " 'new value appended',\n",
       " 'add item to the end']"
      ]
     },
     "execution_count": 20,
     "metadata": {},
     "output_type": "execute_result"
    }
   ],
   "source": [
    "lambda_list"
   ]
  },
  {
   "cell_type": "code",
   "execution_count": 21,
   "metadata": {},
   "outputs": [
    {
     "data": {
      "text/plain": [
       "['i was inserted',\n",
       " 'node',\n",
       " 'react',\n",
       " 'html',\n",
       " 'Add an item at a specified index',\n",
       " 'css',\n",
       " 'sql',\n",
       " 'new value appended',\n",
       " 'add item to the end']"
      ]
     },
     "execution_count": 21,
     "metadata": {},
     "output_type": "execute_result"
    }
   ],
   "source": [
    "# Remove an item\n",
    "lambda_list.pop(3)\n",
    "lambda_list"
   ]
  },
  {
   "cell_type": "code",
   "execution_count": 22,
   "metadata": {},
   "outputs": [],
   "source": [
    "# Remove an item at a specified index\n",
    "del lambda_list[1]"
   ]
  },
  {
   "cell_type": "code",
   "execution_count": 23,
   "metadata": {},
   "outputs": [
    {
     "data": {
      "text/plain": [
       "['i was inserted',\n",
       " 'react',\n",
       " 'html',\n",
       " 'Add an item at a specified index',\n",
       " 'css',\n",
       " 'sql',\n",
       " 'new value appended',\n",
       " 'add item to the end']"
      ]
     },
     "execution_count": 23,
     "metadata": {},
     "output_type": "execute_result"
    }
   ],
   "source": [
    "lambda_list"
   ]
  },
  {
   "cell_type": "code",
   "execution_count": 24,
   "metadata": {},
   "outputs": [
    {
     "data": {
      "text/plain": [
       "['i was inserted',\n",
       " 'react',\n",
       " 'html',\n",
       " 'Add an item at a specified index',\n",
       " 'sql',\n",
       " 'new value appended',\n",
       " 'add item to the end']"
      ]
     },
     "execution_count": 24,
     "metadata": {},
     "output_type": "execute_result"
    }
   ],
   "source": [
    "lambda_list.remove('css')\n",
    "lambda_list"
   ]
  },
  {
   "cell_type": "code",
   "execution_count": 25,
   "metadata": {},
   "outputs": [],
   "source": [
    "# Empty a list\n",
    "lambda_list = []"
   ]
  },
  {
   "cell_type": "code",
   "execution_count": 26,
   "metadata": {},
   "outputs": [
    {
     "data": {
      "text/plain": [
       "[]"
      ]
     },
     "execution_count": 26,
     "metadata": {},
     "output_type": "execute_result"
    }
   ],
   "source": [
    "lambda_list"
   ]
  },
  {
   "cell_type": "code",
   "execution_count": 27,
   "metadata": {},
   "outputs": [
    {
     "data": {
      "text/plain": [
       "[0, 1, 2, 3, 4, 5, 6, 7, 8, 9]"
      ]
     },
     "execution_count": 27,
     "metadata": {},
     "output_type": "execute_result"
    }
   ],
   "source": [
    "# Use the list() constructor to make a list\n",
    "list(range(0,10))"
   ]
  },
  {
   "cell_type": "code",
   "execution_count": 28,
   "metadata": {},
   "outputs": [],
   "source": [
    "# ---------------- Dictionaries -----------   "
   ]
  },
  {
   "cell_type": "code",
   "execution_count": 29,
   "metadata": {},
   "outputs": [
    {
     "name": "stdout",
     "output_type": "stream",
     "text": [
      "{'goats': 12, 'horses': 4, 'cow': 5}\n"
     ]
    }
   ],
   "source": [
    "# Create a dictionary\n",
    "d ={\n",
    "    'goats':12,\n",
    "    'horses':4\n",
    "}\n",
    "# Add an item to a dictionary\n",
    "d['cow'] = 5\n",
    "print(d)"
   ]
  },
  {
   "cell_type": "code",
   "execution_count": 30,
   "metadata": {},
   "outputs": [
    {
     "name": "stdout",
     "output_type": "stream",
     "text": [
      "5\n"
     ]
    }
   ],
   "source": [
    "# Access the items of a dictionary\n",
    "print(d['cow'])"
   ]
  },
  {
   "cell_type": "code",
   "execution_count": 31,
   "metadata": {},
   "outputs": [
    {
     "name": "stdout",
     "output_type": "stream",
     "text": [
      "goats\n",
      "horses\n",
      "cow\n"
     ]
    }
   ],
   "source": [
    "for i in d:\n",
    "    print (i)"
   ]
  },
  {
   "cell_type": "code",
   "execution_count": 32,
   "metadata": {},
   "outputs": [
    {
     "name": "stdout",
     "output_type": "stream",
     "text": [
      "goats: 12\n",
      "horses: 4\n",
      "cow: 5\n"
     ]
    }
   ],
   "source": [
    "for i in d:\n",
    "    print (f'{i}: {d[i]}')"
   ]
  },
  {
   "cell_type": "code",
   "execution_count": 33,
   "metadata": {},
   "outputs": [
    {
     "name": "stdout",
     "output_type": "stream",
     "text": [
      " key: goats,  value: 12\n",
      " key: horses,  value: 4\n",
      " key: cow,  value: 5\n"
     ]
    }
   ],
   "source": [
    "# Loop through both keys and values, by using the items() function\n",
    "for k, v  in d.items():\n",
    "    print (f' key: {k},  value: {v}')"
   ]
  },
  {
   "cell_type": "code",
   "execution_count": 34,
   "metadata": {},
   "outputs": [
    {
     "name": "stdout",
     "output_type": "stream",
     "text": [
      "goats\n",
      "horses\n",
      "cow\n"
     ]
    }
   ],
   "source": [
    "# Print all key names in a dictionary, one by one\n",
    "for x in d.keys():\n",
    "    print (x)"
   ]
  },
  {
   "cell_type": "code",
   "execution_count": 35,
   "metadata": {},
   "outputs": [
    {
     "name": "stdout",
     "output_type": "stream",
     "text": [
      "12\n",
      "4\n",
      "5\n"
     ]
    }
   ],
   "source": [
    "# Print all values in a dictionary, one by one\n",
    "print(d['goats'])\n",
    "print(d['horses'])\n",
    "print(d['cow'])"
   ]
  },
  {
   "cell_type": "code",
   "execution_count": 36,
   "metadata": {},
   "outputs": [
    {
     "name": "stdout",
     "output_type": "stream",
     "text": [
      "12\n",
      "4\n",
      "5\n"
     ]
    }
   ],
   "source": [
    "# Use the values() function to return values of a dictionary\n",
    "for x in d.values():\n",
    "    print (x)"
   ]
  },
  {
   "cell_type": "code",
   "execution_count": 37,
   "metadata": {},
   "outputs": [
    {
     "name": "stdout",
     "output_type": "stream",
     "text": [
      "not here\n"
     ]
    }
   ],
   "source": [
    "# Check if a key exists\n",
    "if 'cows' in d:\n",
    "    print(\"key present\")\n",
    "else:\n",
    "    print(\"not here\")\n",
    "    "
   ]
  },
  {
   "cell_type": "code",
   "execution_count": 38,
   "metadata": {},
   "outputs": [
    {
     "name": "stdout",
     "output_type": "stream",
     "text": [
      "key present\n"
     ]
    }
   ],
   "source": [
    "if 'cow' in d:\n",
    "    print(\"key present\")\n",
    "else:\n",
    "    print(\"not here\")"
   ]
  },
  {
   "cell_type": "code",
   "execution_count": 39,
   "metadata": {},
   "outputs": [
    {
     "name": "stdout",
     "output_type": "stream",
     "text": [
      "3\n"
     ]
    }
   ],
   "source": [
    "# Get the length of a dictionary\n",
    "print(len(d))"
   ]
  },
  {
   "cell_type": "code",
   "execution_count": 40,
   "metadata": {},
   "outputs": [
    {
     "name": "stdout",
     "output_type": "stream",
     "text": [
      "{'goats': 12, 'horses': 4, 'cow': 100}\n"
     ]
    }
   ],
   "source": [
    "# Change the value of a specific item in a dictionary\n",
    "d['cow']=100\n",
    "print(d)"
   ]
  },
  {
   "cell_type": "code",
   "execution_count": 41,
   "metadata": {},
   "outputs": [
    {
     "name": "stdout",
     "output_type": "stream",
     "text": [
      "{'goats': 12, 'horses': 4}\n"
     ]
    }
   ],
   "source": [
    "# Remove an item from a dictionary\n",
    "del d ['cow']\n",
    "print(d)"
   ]
  },
  {
   "cell_type": "code",
   "execution_count": 42,
   "metadata": {},
   "outputs": [
    {
     "name": "stdout",
     "output_type": "stream",
     "text": [
      "{}\n"
     ]
    }
   ],
   "source": [
    "# Empty a dictionary\n",
    "d={}\n",
    "print(d)"
   ]
  },
  {
   "cell_type": "code",
   "execution_count": 43,
   "metadata": {},
   "outputs": [
    {
     "name": "stdout",
     "output_type": "stream",
     "text": [
      "{}\n"
     ]
    }
   ],
   "source": [
    "# Use the dict() constructor to create a dictionary\n",
    "new_dictionary = dict()\n",
    "print(new_dictionary)"
   ]
  },
  {
   "cell_type": "code",
   "execution_count": 44,
   "metadata": {},
   "outputs": [
    {
     "name": "stdout",
     "output_type": "stream",
     "text": [
      "{'one': 'uno', 'two': 'dos', 'three': 'tres'}\n"
     ]
    }
   ],
   "source": [
    "new_dictionary[\"one\"]=\"uno\"\n",
    "new_dictionary[\"two\"]= \"dos\"\n",
    "new_dictionary[\"three\"]= \"tres\"\n",
    "print(new_dictionary)"
   ]
  },
  {
   "cell_type": "code",
   "execution_count": 45,
   "metadata": {},
   "outputs": [],
   "source": [
    "# --------------       Tuples      -------------"
   ]
  },
  {
   "cell_type": "code",
   "execution_count": 46,
   "metadata": {},
   "outputs": [],
   "source": [
    "# Create a tuple\n",
    "mytuple=(\"one\",\"two\",\"orange\",4.3, 5555, 6999)"
   ]
  },
  {
   "cell_type": "code",
   "execution_count": 47,
   "metadata": {},
   "outputs": [
    {
     "name": "stdout",
     "output_type": "stream",
     "text": [
      "orange\n"
     ]
    }
   ],
   "source": [
    "# Access tuple items by index\n",
    "print(mytuple[2])"
   ]
  },
  {
   "cell_type": "code",
   "execution_count": 48,
   "metadata": {},
   "outputs": [
    {
     "data": {
      "text/plain": [
       "2"
      ]
     },
     "execution_count": 48,
     "metadata": {},
     "output_type": "execute_result"
    }
   ],
   "source": [
    "# Access tuple items by index value to find index\n",
    "mytuple.index(\"orange\")"
   ]
  },
  {
   "cell_type": "code",
   "execution_count": 49,
   "metadata": {},
   "outputs": [],
   "source": [
    "# Change tuple values\n",
    "# CAN'T CHANGE, THEY ARE IMMUTABLE"
   ]
  },
  {
   "cell_type": "code",
   "execution_count": 50,
   "metadata": {},
   "outputs": [
    {
     "name": "stdout",
     "output_type": "stream",
     "text": [
      "one\n",
      "two\n",
      "orange\n",
      "4.3\n",
      "5555\n",
      "6999\n"
     ]
    }
   ],
   "source": [
    "# Loop through a tuple\n",
    "for x in mytuple:\n",
    "    print(x)"
   ]
  },
  {
   "cell_type": "code",
   "execution_count": 51,
   "metadata": {},
   "outputs": [
    {
     "name": "stdout",
     "output_type": "stream",
     "text": [
      "not here\n",
      "here\n"
     ]
    }
   ],
   "source": [
    "# Check if a tuple item exists\n",
    "def chek_tuple(value):\n",
    "    if value in mytuple:\n",
    "        print(\"here\")\n",
    "    else:\n",
    "        print(\"not here\")\n",
    "chek_tuple(\"value\")\n",
    "chek_tuple(\"one\")"
   ]
  },
  {
   "cell_type": "code",
   "execution_count": 52,
   "metadata": {},
   "outputs": [
    {
     "name": "stdout",
     "output_type": "stream",
     "text": [
      "6\n"
     ]
    }
   ],
   "source": [
    "# Get the length of a tuple\n",
    "print(len(mytuple))"
   ]
  },
  {
   "cell_type": "code",
   "execution_count": 53,
   "metadata": {},
   "outputs": [
    {
     "name": "stdout",
     "output_type": "stream",
     "text": [
      "()\n"
     ]
    }
   ],
   "source": [
    "# Delete a tuple\n",
    "mytuple =()\n",
    "print(mytuple)"
   ]
  },
  {
   "cell_type": "code",
   "execution_count": 54,
   "metadata": {},
   "outputs": [
    {
     "name": "stdout",
     "output_type": "stream",
     "text": [
      "()\n"
     ]
    }
   ],
   "source": [
    "print(mytuple)"
   ]
  },
  {
   "cell_type": "code",
   "execution_count": 55,
   "metadata": {},
   "outputs": [],
   "source": [
    "# Use the tuple() constructor to create a tuple\n",
    "new_tuple = tuple()\n",
    "#tuples are immutable, so you can not add new elements\n",
    "#using merge of tuples with the + operator you can add an element and it will create a new tuple\n",
    "new_tuple = new_tuple+(99,33)"
   ]
  },
  {
   "cell_type": "code",
   "execution_count": 56,
   "metadata": {},
   "outputs": [
    {
     "name": "stdout",
     "output_type": "stream",
     "text": [
      "(99, 33)\n"
     ]
    }
   ],
   "source": [
    "print(new_tuple)"
   ]
  },
  {
   "cell_type": "code",
   "execution_count": 57,
   "metadata": {},
   "outputs": [
    {
     "name": "stdout",
     "output_type": "stream",
     "text": [
      "(99, 33, 15, 20, 25)\n"
     ]
    }
   ],
   "source": [
    "# adding items in a specific index\n",
    "new_tuple = new_tuple[:2] + (15, 20, 25)\n",
    "print(new_tuple)"
   ]
  },
  {
   "cell_type": "code",
   "execution_count": 58,
   "metadata": {},
   "outputs": [
    {
     "name": "stdout",
     "output_type": "stream",
     "text": [
      "(99, 33, 15, 20, 25, 30)\n"
     ]
    }
   ],
   "source": [
    "#converting the tuple to list\n",
    "listx = list(new_tuple) \n",
    "#use different ways to add items in list\n",
    "listx.append(30)\n",
    "new_tuple = tuple(listx)\n",
    "print(new_tuple)"
   ]
  },
  {
   "cell_type": "code",
   "execution_count": 59,
   "metadata": {},
   "outputs": [],
   "source": [
    "# ------------------      Sets         -----------------------\n",
    "\n",
    "\n",
    "\n",
    "\n",
    "\n",
    "\n",
    "\n",
    "\n",
    "# Use the set() constructor to create a set\n",
    "\n"
   ]
  },
  {
   "cell_type": "code",
   "execution_count": 60,
   "metadata": {},
   "outputs": [
    {
     "name": "stdout",
     "output_type": "stream",
     "text": [
      "{'three', 'two', 'one'}\n"
     ]
    }
   ],
   "source": [
    "# Create a set\n",
    "myset={'one', \"two\",\"three\"}\n",
    "print(myset)"
   ]
  },
  {
   "cell_type": "code",
   "execution_count": 61,
   "metadata": {},
   "outputs": [
    {
     "name": "stdout",
     "output_type": "stream",
     "text": [
      "three\n",
      "two\n",
      "one\n"
     ]
    }
   ],
   "source": [
    "# Loop through a set\n",
    "for x in myset:\n",
    "    print(x)"
   ]
  },
  {
   "cell_type": "code",
   "execution_count": 62,
   "metadata": {},
   "outputs": [
    {
     "name": "stdout",
     "output_type": "stream",
     "text": [
      "value not present\n",
      "value present\n"
     ]
    }
   ],
   "source": [
    "# Check if an item exists\n",
    "def check_set(set_value):\n",
    "    if set_value in myset:\n",
    "        print(\"value present\")\n",
    "    else:\n",
    "        print(\"value not present\")\n",
    "check_set(1)\n",
    "check_set(\"one\")"
   ]
  },
  {
   "cell_type": "code",
   "execution_count": 63,
   "metadata": {},
   "outputs": [
    {
     "name": "stdout",
     "output_type": "stream",
     "text": [
      "{'three', 'two', 'one', 'five'}\n"
     ]
    }
   ],
   "source": [
    "# Add an item to a set\n",
    "myset.add(\"five\")\n",
    "print(myset)"
   ]
  },
  {
   "cell_type": "code",
   "execution_count": 64,
   "metadata": {},
   "outputs": [
    {
     "name": "stdout",
     "output_type": "stream",
     "text": [
      "{'three', 'one', ('four', 'six', 'seven'), 'two', 'five'}\n"
     ]
    }
   ],
   "source": [
    "# Add tuple to a set\n",
    "myset.add((\"four\", \"six\",\"seven\"))\n",
    "print(myset)"
   ]
  },
  {
   "cell_type": "code",
   "execution_count": 65,
   "metadata": {},
   "outputs": [
    {
     "name": "stdout",
     "output_type": "stream",
     "text": [
      "5\n"
     ]
    }
   ],
   "source": [
    "# Get the length of a set\n",
    "print(len(myset))"
   ]
  },
  {
   "cell_type": "code",
   "execution_count": 66,
   "metadata": {},
   "outputs": [
    {
     "name": "stdout",
     "output_type": "stream",
     "text": [
      "{'three', ('four', 'six', 'seven'), 'two', 'five'}\n"
     ]
    }
   ],
   "source": [
    "# Remove an item in a set\n",
    "myset.remove(\"one\")\n",
    "print(myset)"
   ]
  },
  {
   "cell_type": "code",
   "execution_count": 71,
   "metadata": {},
   "outputs": [
    {
     "name": "stdout",
     "output_type": "stream",
     "text": [
      "{'three', ('four', 'six', 'seven'), 'five'}\n"
     ]
    }
   ],
   "source": [
    "# Remove an item in a set by using the discard() method\n",
    "myset.discard(\"two\")\n",
    "print(myset)"
   ]
  },
  {
   "cell_type": "code",
   "execution_count": 72,
   "metadata": {},
   "outputs": [
    {
     "name": "stdout",
     "output_type": "stream",
     "text": [
      "{('four', 'six', 'seven'), 'five'}\n"
     ]
    }
   ],
   "source": [
    "# Remove the last item in a set by using the pop() method\n",
    "myset.pop()\n",
    "print(myset)"
   ]
  },
  {
   "cell_type": "code",
   "execution_count": 73,
   "metadata": {},
   "outputs": [
    {
     "name": "stdout",
     "output_type": "stream",
     "text": [
      "{}\n"
     ]
    }
   ],
   "source": [
    "# Empty a set\n",
    "myset={}\n",
    "print(myset)"
   ]
  },
  {
   "cell_type": "code",
   "execution_count": 74,
   "metadata": {},
   "outputs": [
    {
     "name": "stdout",
     "output_type": "stream",
     "text": [
      "set()\n"
     ]
    }
   ],
   "source": [
    "# Delete a set\n",
    "newset={1,2,3,45,67,8}\n",
    "newset.clear()\n",
    "print(newset)"
   ]
  },
  {
   "cell_type": "code",
   "execution_count": 76,
   "metadata": {},
   "outputs": [
    {
     "name": "stdout",
     "output_type": "stream",
     "text": [
      "{'u', 'f', 'k', 'c'}\n"
     ]
    }
   ],
   "source": [
    "# Use the set() constructor to create a set\n",
    "set_new = set((\"f\",\"u\",\"c\",\"k\"))\n",
    "print(set_new)"
   ]
  },
  {
   "cell_type": "code",
   "execution_count": null,
   "metadata": {},
   "outputs": [],
   "source": []
  }
 ],
 "metadata": {
  "kernelspec": {
   "display_name": "Python 3",
   "language": "python",
   "name": "python3"
  },
  "language_info": {
   "codemirror_mode": {
    "name": "ipython",
    "version": 3
   },
   "file_extension": ".py",
   "mimetype": "text/x-python",
   "name": "python",
   "nbconvert_exporter": "python",
   "pygments_lexer": "ipython3",
   "version": "3.8.3"
  }
 },
 "nbformat": 4,
 "nbformat_minor": 4
}
